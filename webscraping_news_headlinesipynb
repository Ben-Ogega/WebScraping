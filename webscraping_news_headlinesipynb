{
 "cells": [
  {
   "cell_type": "markdown",
   "id": "aca64e84-77fb-438a-a9d1-0012b4798139",
   "metadata": {},
   "source": [
    "# Webscrapping and Automation"
   ]
  },
  {
   "cell_type": "markdown",
   "id": "08700a44-2b38-4d82-8619-7c1ba2c8d252",
   "metadata": {},
   "source": [
    "## Webscrape newsheadlines of 10 newspapers with specific keywords"
   ]
  },
  {
   "cell_type": "markdown",
   "id": "ee905cae-004e-4442-b89d-88f72e63e1b4",
   "metadata": {},
   "source": [
    "### For this demo/Proposal I will use https://nltimes.nl/\n",
    "### Finding the Keywords name and save them as a CSV file complete with links"
   ]
  },
  {
   "cell_type": "code",
   "execution_count": 1,
   "id": "a996ceb6-cf8e-42a9-acb8-29ed9af4ffdd",
   "metadata": {},
   "outputs": [],
   "source": [
    "import pandas as pd\n",
    "import requests\n",
    "from bs4 import BeautifulSoup"
   ]
  },
  {
   "cell_type": "code",
   "execution_count": 2,
   "id": "0bd1d8ce-ba16-4ca2-b837-1fa4b9446ee5",
   "metadata": {},
   "outputs": [],
   "source": [
    "# Creating a function that returns the headlines"
   ]
  },
  {
   "cell_type": "code",
   "execution_count": 3,
   "id": "4115a538-3fb7-4c5d-b5e9-90dcb311ece9",
   "metadata": {},
   "outputs": [
    {
     "name": "stdout",
     "output_type": "stream",
     "text": [
      "https://nltimes.nl/categories/Politics\n",
      "https://nltimes.nl/categories/Business\n",
      "https://nltimes.nl/categories/Crime\n",
      "https://nltimes.nl/categories/Tech\n",
      "https://nltimes.nl/categories/Culture\n",
      "https://nltimes.nl/categories/Sports\n",
      "https://nltimes.nl/categories/Weird\n"
     ]
    }
   ],
   "source": [
    "categories = ['Politics', 'Business', 'Crime', 'Tech', 'Culture','Sports', 'Weird']\n",
    "for category in categories:\n",
    "    url_list = \"https://nltimes.nl/categories/\"+ category\n",
    "    print(url_list)"
   ]
  },
  {
   "cell_type": "code",
   "execution_count": 4,
   "id": "bbaf9064-199f-4159-b3ff-86ff75cd8a1c",
   "metadata": {},
   "outputs": [],
   "source": [
    "master_list = []\n",
    "def get_headline(category):\n",
    "    categories = ['Politics', 'Business', 'Crime', 'Tech', 'Culture','Sports', 'Weird']\n",
    "    for category in categories:\n",
    "        url = \"https://nltimes.nl/categories/\"+ category\n",
    "        response = requests.get(url)\n",
    "        html = response.text\n",
    "        soup = BeautifulSoup(html)\n",
    "        division = soup.find('div', class_=\"news-card\")\n",
    "        title = division.find('div', class_=\"news-card__title\").text\n",
    "        master_list.append(title)\n",
    "    print( title)"
   ]
  },
  {
   "cell_type": "code",
   "execution_count": null,
   "id": "5aa61857-a651-4060-abf5-f5ed2878a924",
   "metadata": {},
   "outputs": [],
   "source": [
    "get_headline(category)"
   ]
  },
  {
   "cell_type": "code",
   "execution_count": null,
   "id": "63339d27-9be2-4e86-b16a-05fd88ff80fd",
   "metadata": {},
   "outputs": [],
   "source": [
    "master_list"
   ]
  },
  {
   "cell_type": "code",
   "execution_count": null,
   "id": "1d85084c-cd7c-46c3-8154-971118612fd4",
   "metadata": {},
   "outputs": [],
   "source": [
    "# Get the exact date the headline appeared\n",
    "# division_2 = soup.find('div', class_=\"news-card__date\")\n",
    "\n",
    "# news_date = division_2.text"
   ]
  },
  {
   "cell_type": "code",
   "execution_count": null,
   "id": "d6fe86ca-9e72-4aef-8aa7-358de80b27b3",
   "metadata": {},
   "outputs": [],
   "source": [
    "# news_date"
   ]
  },
  {
   "cell_type": "code",
   "execution_count": null,
   "id": "cdcc6f90-3199-46f2-9bc3-07ca3645472f",
   "metadata": {},
   "outputs": [],
   "source": [
    "# # Get the Category of  the headline appeared\n",
    "# division_3 = soup.find('div', class_=\"news-card__categories\")\n",
    "# division_3.text"
   ]
  },
  {
   "cell_type": "markdown",
   "id": "98037ac6-e6d6-4664-a18f-791b2d3bed29",
   "metadata": {},
   "source": [
    "## Convert Master List to a Pandas DataFrame"
   ]
  },
  {
   "cell_type": "markdown",
   "id": "76199674-f4f9-4309-8fe1-6eb32b38099a",
   "metadata": {},
   "source": [
    "## Save to CSV format"
   ]
  },
  {
   "cell_type": "code",
   "execution_count": null,
   "id": "d43220a0-2570-4d95-a542-46bf72a9f274",
   "metadata": {},
   "outputs": [],
   "source": []
  }
 ],
 "metadata": {
  "kernelspec": {
   "display_name": "Python 3 (ipykernel)",
   "language": "python",
   "name": "python3"
  },
  "language_info": {
   "codemirror_mode": {
    "name": "ipython",
    "version": 3
   },
   "file_extension": ".py",
   "mimetype": "text/x-python",
   "name": "python",
   "nbconvert_exporter": "python",
   "pygments_lexer": "ipython3",
   "version": "3.11.6"
  }
 },
 "nbformat": 4,
 "nbformat_minor": 5
}
