{
 "cells": [
  {
   "cell_type": "markdown",
   "id": "aca64e84-77fb-438a-a9d1-0012b4798139",
   "metadata": {},
   "source": [
    "# Webscrapping and Automation"
   ]
  },
  {
   "cell_type": "markdown",
   "id": "ee905cae-004e-4442-b89d-88f72e63e1b4",
   "metadata": {},
   "source": [
    "### Writing a Python algorithm that finds websites from the format https://12693.portal.athenahealth.com/\n",
    "### Finding the practice name and save it as a CSV file"
   ]
  },
  {
   "cell_type": "code",
   "execution_count": 1,
   "id": "a996ceb6-cf8e-42a9-acb8-29ed9af4ffdd",
   "metadata": {},
   "outputs": [],
   "source": [
    "import pandas as pd\n",
    "import requests\n",
    "from bs4 import BeautifulSoup"
   ]
  },
  {
   "cell_type": "code",
   "execution_count": 2,
   "id": "0bd1d8ce-ba16-4ca2-b837-1fa4b9446ee5",
   "metadata": {},
   "outputs": [],
   "source": [
    "# Creating a function that returns the clinic id"
   ]
  },
  {
   "cell_type": "code",
   "execution_count": 3,
   "id": "bbaf9064-199f-4159-b3ff-86ff75cd8a1c",
   "metadata": {},
   "outputs": [],
   "source": [
    "def get_clinic_name(clinic_id):\n",
    "    url = f'https://{clinic_id}.portal.athenahealth.com/'\n",
    "    response = requests.get(url)\n",
    "    html = response.text\n",
    "    soup = BeautifulSoup(html, 'html.parser')\n",
    "    clinic_name = soup.find_all('h1')[-1].text.strip()\n",
    "    return clinic_name"
   ]
  },
  {
   "cell_type": "code",
   "execution_count": 4,
   "id": "1e9e6abe-0e23-4f7e-8726-0bf8e035e353",
   "metadata": {},
   "outputs": [
    {
     "data": {
      "text/plain": [
       "'LI Urgent Care'"
      ]
     },
     "execution_count": 4,
     "metadata": {},
     "output_type": "execute_result"
    }
   ],
   "source": [
    "get_clinic_name(8960)"
   ]
  },
  {
   "cell_type": "code",
   "execution_count": 5,
   "id": "7955c7f3-9657-46bb-9ae8-8d4fc0b53323",
   "metadata": {},
   "outputs": [
    {
     "name": "stdout",
     "output_type": "stream",
     "text": [
      "[{'clinic_id': 12690, 'clinic_name': 'Payment Confirmation'}]\n"
     ]
    }
   ],
   "source": [
    "# scrap just 20 pages\n",
    "start, end = 12690, 12710\n",
    "master_list = []\n",
    "for clinic_id in range(start, end+1):\n",
    "    data_dict = {}\n",
    "    data_dict['clinic_id'] = clinic_id\n",
    "    data_dict['clinic_name'] = get_clinic_name(clinic_id)\n",
    "    master_list.append(data_dict)\n",
    "    print(master_list)\n",
    "    break"
   ]
  },
  {
   "cell_type": "code",
   "execution_count": 6,
   "id": "5ebc3834-936f-4bf4-95cc-60c4dc771ed9",
   "metadata": {},
   "outputs": [],
   "source": [
    "# This loops through 20 pages( there could be hundreds more) and finds the clinic or praction and saves it in a list"
   ]
  },
  {
   "cell_type": "code",
   "execution_count": 7,
   "id": "1796be8a-9cf7-4704-a8e8-57d58cd8f6cd",
   "metadata": {},
   "outputs": [],
   "source": [
    "# scrap just 20 pages\n",
    "start, end = 12690, 12710\n",
    "master_list = []\n",
    "for clinic_id in range(start, end+1):\n",
    "    data_dict = {}\n",
    "    data_dict['clinic_id'] = clinic_id\n",
    "    data_dict['clinic_name'] = get_clinic_name(clinic_id)\n",
    "    if data_dict['clinic_name'] != 'Payment Confirmation' and  data_dict['clinic_name'] != \"Sorry, we can't find that practice. Make sure you typed the right address.\":\n",
    "        master_list.append(data_dict)\n",
    "        # print(master_list)"
   ]
  },
  {
   "cell_type": "code",
   "execution_count": 8,
   "id": "b318a933-a2c5-40a7-b9ee-e0f5f3f0623a",
   "metadata": {},
   "outputs": [
    {
     "data": {
      "text/plain": [
       "[{'clinic_id': 12691, 'clinic_name': 'Ergomedica'},\n",
       " {'clinic_id': 12693, 'clinic_name': 'Altamonte Family Practice'},\n",
       " {'clinic_id': 12694, 'clinic_name': 'Open Health Care Clinic'},\n",
       " {'clinic_id': 12695, 'clinic_name': 'Dr. Richard Handelsman'},\n",
       " {'clinic_id': 12696, 'clinic_name': \"Women's CenterforIntegrative Health\"},\n",
       " {'clinic_id': 12697, 'clinic_name': 'Eastern Urological Associates'},\n",
       " {'clinic_id': 12702, 'clinic_name': 'Chand Rohatgi MD'},\n",
       " {'clinic_id': 12703, 'clinic_name': ''},\n",
       " {'clinic_id': 12704, 'clinic_name': 'Volunteer Healthcare Clinic'},\n",
       " {'clinic_id': 12705, 'clinic_name': 'Christ Clinic'},\n",
       " {'clinic_id': 12706, 'clinic_name': 'Olga Joukovski, MD, PA'},\n",
       " {'clinic_id': 12707, 'clinic_name': 'Restore Health Clinic'},\n",
       " {'clinic_id': 12708,\n",
       "  'clinic_name': 'STUART L. SILVERMAN, M.D., A MEDICAL CORPORATION'},\n",
       " {'clinic_id': 12709, 'clinic_name': 'George E. Weems Clinics'}]"
      ]
     },
     "execution_count": 8,
     "metadata": {},
     "output_type": "execute_result"
    }
   ],
   "source": [
    "master_list"
   ]
  },
  {
   "cell_type": "markdown",
   "id": "98037ac6-e6d6-4664-a18f-791b2d3bed29",
   "metadata": {},
   "source": [
    "## Convert Master List to a Pandas DataFrame"
   ]
  },
  {
   "cell_type": "code",
   "execution_count": 9,
   "id": "dd6aa3b8-9ac8-49f2-98b7-517cab14004f",
   "metadata": {},
   "outputs": [
    {
     "data": {
      "text/html": [
       "<div>\n",
       "<style scoped>\n",
       "    .dataframe tbody tr th:only-of-type {\n",
       "        vertical-align: middle;\n",
       "    }\n",
       "\n",
       "    .dataframe tbody tr th {\n",
       "        vertical-align: top;\n",
       "    }\n",
       "\n",
       "    .dataframe thead th {\n",
       "        text-align: right;\n",
       "    }\n",
       "</style>\n",
       "<table border=\"1\" class=\"dataframe\">\n",
       "  <thead>\n",
       "    <tr style=\"text-align: right;\">\n",
       "      <th></th>\n",
       "      <th>clinic_id</th>\n",
       "      <th>clinic_name</th>\n",
       "    </tr>\n",
       "  </thead>\n",
       "  <tbody>\n",
       "    <tr>\n",
       "      <th>0</th>\n",
       "      <td>12691</td>\n",
       "      <td>Ergomedica</td>\n",
       "    </tr>\n",
       "    <tr>\n",
       "      <th>1</th>\n",
       "      <td>12693</td>\n",
       "      <td>Altamonte Family Practice</td>\n",
       "    </tr>\n",
       "    <tr>\n",
       "      <th>2</th>\n",
       "      <td>12694</td>\n",
       "      <td>Open Health Care Clinic</td>\n",
       "    </tr>\n",
       "    <tr>\n",
       "      <th>3</th>\n",
       "      <td>12695</td>\n",
       "      <td>Dr. Richard Handelsman</td>\n",
       "    </tr>\n",
       "    <tr>\n",
       "      <th>4</th>\n",
       "      <td>12696</td>\n",
       "      <td>Women's CenterforIntegrative Health</td>\n",
       "    </tr>\n",
       "  </tbody>\n",
       "</table>\n",
       "</div>"
      ],
      "text/plain": [
       "   clinic_id                          clinic_name\n",
       "0      12691                           Ergomedica\n",
       "1      12693            Altamonte Family Practice\n",
       "2      12694              Open Health Care Clinic\n",
       "3      12695               Dr. Richard Handelsman\n",
       "4      12696  Women's CenterforIntegrative Health"
      ]
     },
     "execution_count": 9,
     "metadata": {},
     "output_type": "execute_result"
    }
   ],
   "source": [
    "master_list_df = pd.DataFrame(master_list)\n",
    "master_list_df.head()"
   ]
  },
  {
   "cell_type": "markdown",
   "id": "76199674-f4f9-4309-8fe1-6eb32b38099a",
   "metadata": {},
   "source": [
    "## Save to CSV format"
   ]
  },
  {
   "cell_type": "code",
   "execution_count": 10,
   "id": "e9615fdc-3004-4de6-b207-dd1bc2931fe9",
   "metadata": {},
   "outputs": [],
   "source": [
    "master_list_df.to_csv('clinic_data.csv', index=False)"
   ]
  },
  {
   "cell_type": "code",
   "execution_count": null,
   "id": "d43220a0-2570-4d95-a542-46bf72a9f274",
   "metadata": {},
   "outputs": [],
   "source": []
  }
 ],
 "metadata": {
  "kernelspec": {
   "display_name": "Python 3 (ipykernel)",
   "language": "python",
   "name": "python3"
  },
  "language_info": {
   "codemirror_mode": {
    "name": "ipython",
    "version": 3
   },
   "file_extension": ".py",
   "mimetype": "text/x-python",
   "name": "python",
   "nbconvert_exporter": "python",
   "pygments_lexer": "ipython3",
   "version": "3.11.6"
  }
 },
 "nbformat": 4,
 "nbformat_minor": 5
}
